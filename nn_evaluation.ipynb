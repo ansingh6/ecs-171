{
 "cells": [
  {
   "cell_type": "code",
   "execution_count": 1,
   "id": "da17de65",
   "metadata": {},
   "outputs": [
    {
     "name": "stderr",
     "output_type": "stream",
     "text": [
      "2023-06-06 16:01:20.054355: I tensorflow/core/platform/cpu_feature_guard.cc:182] This TensorFlow binary is optimized to use available CPU instructions in performance-critical operations.\n",
      "To enable the following instructions: AVX2 FMA, in other operations, rebuild TensorFlow with the appropriate compiler flags.\n"
     ]
    }
   ],
   "source": [
    "import pandas as pd\n",
    "import numpy as np \n",
    "import tensorflow as tf\n",
    "import tensorflow_text as text\n",
    "import re\n",
    "from sklearn.model_selection import train_test_split\n",
    "from tqdm import tqdm"
   ]
  },
  {
   "cell_type": "code",
   "execution_count": 2,
   "id": "13a93378",
   "metadata": {},
   "outputs": [],
   "source": [
    "# inputting data for model\n",
    "# load data\n",
    "df = pd.read_csv('fake_job_postings.csv')\n",
    "# drop job id column\n",
    "df.drop('job_id', axis=1, inplace=True)\n",
    "# fill na\n",
    "df.fillna(' ',inplace=True)\n",
    "# create text column\n",
    "df['text'] = df['title'] + \" \" + df['company_profile'] + \" \" + df['description'] + \" \" + df['department'] + \" \" + df['requirements'] + \" \" + df['benefits'] \n",
    "# data cleaning\n",
    "df['text']=df['text'].str.replace('\\n','')\n",
    "df['text']=df['text'].str.replace('\\r','')\n",
    "df['text']=df['text'].str.replace('\\t','')\n",
    "  \n",
    "#This removes unwanted texts\n",
    "df['text'] = df['text'].apply(lambda x: re.sub(r'[0-9]','',x))\n",
    "df['text'] = df['text'].apply(lambda x: re.sub(r'[/(){}\\[\\]\\|@,;.:-]',' ',x))\n",
    "  \n",
    "#Converting all upper case to lower case\n",
    "df['text']= df['text'].apply(lambda s:s.lower() if type(s) == str else s)\n",
    "  \n",
    "\n",
    "#Remove un necessary white space\n",
    "df['text']=df['text'].str.replace('  ',' ')\n",
    "# split data\n",
    "X =df['text']\n",
    "Y=df['fraudulent']\n",
    "# train test split\n",
    "X_train, X_test, y_train, y_test = train_test_split(X,Y, test_size = 0.20,random_state=127)"
   ]
  },
  {
   "cell_type": "code",
   "execution_count": 3,
   "id": "10541414",
   "metadata": {},
   "outputs": [
    {
     "name": "stderr",
     "output_type": "stream",
     "text": [
      "2023-06-06 16:01:49.092076: I tensorflow/core/common_runtime/executor.cc:1197] [/device:CPU:0] (DEBUG INFO) Executor start aborting (this does not indicate an error and you can ignore this message): INVALID_ARGUMENT: You must feed a value for placeholder tensor 'seq_length' with dtype int32\n",
      "\t [[{{node seq_length}}]]\n",
      "2023-06-06 16:01:49.092819: I tensorflow/core/common_runtime/executor.cc:1197] [/device:CPU:0] (DEBUG INFO) Executor start aborting (this does not indicate an error and you can ignore this message): INVALID_ARGUMENT: You must feed a value for placeholder tensor 'seq_length' with dtype int32\n",
      "\t [[{{node seq_length}}]]\n",
      "2023-06-06 16:01:49.092960: I tensorflow/core/common_runtime/executor.cc:1197] [/device:CPU:0] (DEBUG INFO) Executor start aborting (this does not indicate an error and you can ignore this message): INVALID_ARGUMENT: You must feed a value for placeholder tensor 'seq_length' with dtype int32\n",
      "\t [[{{node seq_length}}]]\n",
      "2023-06-06 16:01:49.093368: I tensorflow/core/common_runtime/executor.cc:1197] [/device:CPU:0] (DEBUG INFO) Executor start aborting (this does not indicate an error and you can ignore this message): INVALID_ARGUMENT: You must feed a value for placeholder tensor 'seq_length' with dtype int32\n",
      "\t [[{{node seq_length}}]]\n",
      "2023-06-06 16:01:49.093554: I tensorflow/core/common_runtime/executor.cc:1197] [/device:CPU:0] (DEBUG INFO) Executor start aborting (this does not indicate an error and you can ignore this message): INVALID_ARGUMENT: You must feed a value for placeholder tensor 'seq_length' with dtype int32\n",
      "\t [[{{node seq_length}}]]\n",
      "2023-06-06 16:01:49.093660: I tensorflow/core/common_runtime/executor.cc:1197] [/device:CPU:0] (DEBUG INFO) Executor start aborting (this does not indicate an error and you can ignore this message): INVALID_ARGUMENT: You must feed a value for placeholder tensor 'seq_length' with dtype int32\n",
      "\t [[{{node seq_length}}]]\n",
      "2023-06-06 16:01:49.093752: I tensorflow/core/common_runtime/executor.cc:1197] [/device:CPU:0] (DEBUG INFO) Executor start aborting (this does not indicate an error and you can ignore this message): INVALID_ARGUMENT: You must feed a value for placeholder tensor 'seq_length' with dtype int32\n",
      "\t [[{{node seq_length}}]]\n",
      "2023-06-06 16:01:54.532287: I tensorflow/core/common_runtime/executor.cc:1197] [/device:CPU:0] (DEBUG INFO) Executor start aborting (this does not indicate an error and you can ignore this message): INVALID_ARGUMENT: You must feed a value for placeholder tensor 'seq_length' with dtype int32\n",
      "\t [[{{node seq_length}}]]\n",
      "2023-06-06 16:01:54.533234: I tensorflow/core/common_runtime/executor.cc:1197] [/device:CPU:0] (DEBUG INFO) Executor start aborting (this does not indicate an error and you can ignore this message): INVALID_ARGUMENT: You must feed a value for placeholder tensor 'seq_length' with dtype int32\n",
      "\t [[{{node seq_length}}]]\n",
      "2023-06-06 16:01:54.533625: I tensorflow/core/common_runtime/executor.cc:1197] [/device:CPU:0] (DEBUG INFO) Executor start aborting (this does not indicate an error and you can ignore this message): INVALID_ARGUMENT: You must feed a value for placeholder tensor 'seq_length' with dtype int32\n",
      "\t [[{{node seq_length}}]]\n",
      "2023-06-06 16:01:54.542123: I tensorflow/core/common_runtime/executor.cc:1197] [/device:CPU:0] (DEBUG INFO) Executor start aborting (this does not indicate an error and you can ignore this message): INVALID_ARGUMENT: You must feed a value for placeholder tensor 'seq_length' with dtype int32\n",
      "\t [[{{node seq_length}}]]\n",
      "2023-06-06 16:01:54.543067: I tensorflow/core/common_runtime/executor.cc:1197] [/device:CPU:0] (DEBUG INFO) Executor start aborting (this does not indicate an error and you can ignore this message): INVALID_ARGUMENT: You must feed a value for placeholder tensor 'seq_length' with dtype int32\n",
      "\t [[{{node seq_length}}]]\n",
      "2023-06-06 16:01:54.543253: I tensorflow/core/common_runtime/executor.cc:1197] [/device:CPU:0] (DEBUG INFO) Executor start aborting (this does not indicate an error and you can ignore this message): INVALID_ARGUMENT: You must feed a value for placeholder tensor 'seq_length' with dtype int32\n",
      "\t [[{{node seq_length}}]]\n",
      "2023-06-06 16:01:54.543418: I tensorflow/core/common_runtime/executor.cc:1197] [/device:CPU:0] (DEBUG INFO) Executor start aborting (this does not indicate an error and you can ignore this message): INVALID_ARGUMENT: You must feed a value for placeholder tensor 'seq_length' with dtype int32\n",
      "\t [[{{node seq_length}}]]\n",
      "2023-06-06 16:02:01.154329: I tensorflow/core/common_runtime/executor.cc:1197] [/device:CPU:0] (DEBUG INFO) Executor start aborting (this does not indicate an error and you can ignore this message): INVALID_ARGUMENT: You must feed a value for placeholder tensor 'seq_length' with dtype int32\n",
      "\t [[{{node seq_length}}]]\n",
      "2023-06-06 16:02:01.155176: I tensorflow/core/common_runtime/executor.cc:1197] [/device:CPU:0] (DEBUG INFO) Executor start aborting (this does not indicate an error and you can ignore this message): INVALID_ARGUMENT: You must feed a value for placeholder tensor 'seq_length' with dtype int32\n",
      "\t [[{{node seq_length}}]]\n",
      "2023-06-06 16:02:01.155323: I tensorflow/core/common_runtime/executor.cc:1197] [/device:CPU:0] (DEBUG INFO) Executor start aborting (this does not indicate an error and you can ignore this message): INVALID_ARGUMENT: You must feed a value for placeholder tensor 'seq_length' with dtype int32\n",
      "\t [[{{node seq_length}}]]\n",
      "2023-06-06 16:02:01.155866: I tensorflow/core/common_runtime/executor.cc:1197] [/device:CPU:0] (DEBUG INFO) Executor start aborting (this does not indicate an error and you can ignore this message): INVALID_ARGUMENT: You must feed a value for placeholder tensor 'seq_length' with dtype int32\n",
      "\t [[{{node seq_length}}]]\n",
      "2023-06-06 16:02:01.156068: I tensorflow/core/common_runtime/executor.cc:1197] [/device:CPU:0] (DEBUG INFO) Executor start aborting (this does not indicate an error and you can ignore this message): INVALID_ARGUMENT: You must feed a value for placeholder tensor 'seq_length' with dtype int32\n",
      "\t [[{{node seq_length}}]]\n",
      "2023-06-06 16:02:01.156166: I tensorflow/core/common_runtime/executor.cc:1197] [/device:CPU:0] (DEBUG INFO) Executor start aborting (this does not indicate an error and you can ignore this message): INVALID_ARGUMENT: You must feed a value for placeholder tensor 'seq_length' with dtype int32\n",
      "\t [[{{node seq_length}}]]\n",
      "2023-06-06 16:02:01.156259: I tensorflow/core/common_runtime/executor.cc:1197] [/device:CPU:0] (DEBUG INFO) Executor start aborting (this does not indicate an error and you can ignore this message): INVALID_ARGUMENT: You must feed a value for placeholder tensor 'seq_length' with dtype int32\n",
      "\t [[{{node seq_length}}]]\n",
      "2023-06-06 16:02:01.578246: I tensorflow/core/common_runtime/executor.cc:1197] [/device:CPU:0] (DEBUG INFO) Executor start aborting (this does not indicate an error and you can ignore this message): INVALID_ARGUMENT: You must feed a value for placeholder tensor 'seq_length' with dtype int32\n",
      "\t [[{{node seq_length}}]]\n",
      "2023-06-06 16:02:01.578870: I tensorflow/core/common_runtime/executor.cc:1197] [/device:CPU:0] (DEBUG INFO) Executor start aborting (this does not indicate an error and you can ignore this message): INVALID_ARGUMENT: You must feed a value for placeholder tensor 'seq_length' with dtype int32\n",
      "\t [[{{node seq_length}}]]\n",
      "2023-06-06 16:02:01.579012: I tensorflow/core/common_runtime/executor.cc:1197] [/device:CPU:0] (DEBUG INFO) Executor start aborting (this does not indicate an error and you can ignore this message): INVALID_ARGUMENT: You must feed a value for placeholder tensor 'seq_length' with dtype int32\n",
      "\t [[{{node seq_length}}]]\n",
      "2023-06-06 16:02:01.579568: I tensorflow/core/common_runtime/executor.cc:1197] [/device:CPU:0] (DEBUG INFO) Executor start aborting (this does not indicate an error and you can ignore this message): INVALID_ARGUMENT: You must feed a value for placeholder tensor 'seq_length' with dtype int32\n",
      "\t [[{{node seq_length}}]]\n",
      "2023-06-06 16:02:01.579750: I tensorflow/core/common_runtime/executor.cc:1197] [/device:CPU:0] (DEBUG INFO) Executor start aborting (this does not indicate an error and you can ignore this message): INVALID_ARGUMENT: You must feed a value for placeholder tensor 'seq_length' with dtype int32\n",
      "\t [[{{node seq_length}}]]\n",
      "2023-06-06 16:02:01.579844: I tensorflow/core/common_runtime/executor.cc:1197] [/device:CPU:0] (DEBUG INFO) Executor start aborting (this does not indicate an error and you can ignore this message): INVALID_ARGUMENT: You must feed a value for placeholder tensor 'seq_length' with dtype int32\n",
      "\t [[{{node seq_length}}]]\n",
      "2023-06-06 16:02:01.579931: I tensorflow/core/common_runtime/executor.cc:1197] [/device:CPU:0] (DEBUG INFO) Executor start aborting (this does not indicate an error and you can ignore this message): INVALID_ARGUMENT: You must feed a value for placeholder tensor 'seq_length' with dtype int32\n",
      "\t [[{{node seq_length}}]]\n"
     ]
    }
   ],
   "source": [
    "path = 'the_model_A8/'\n",
    "reloaded_model = tf.saved_model.load(path)"
   ]
  },
  {
   "cell_type": "code",
   "execution_count": 4,
   "id": "8a60892e",
   "metadata": {},
   "outputs": [
    {
     "name": "stderr",
     "output_type": "stream",
     "text": [
      "100%|███████████████████████████████████████| 3576/3576 [02:19<00:00, 25.64it/s]\n"
     ]
    }
   ],
   "source": [
    "preds = []\n",
    "for i in tqdm(range(len(X_test))):\n",
    "    reloaded_results = tf.sigmoid(reloaded_model(tf.constant([X_test.values[i]])))\n",
    "    preds.append(reloaded_results.numpy()[0][0])"
   ]
  },
  {
   "cell_type": "code",
   "execution_count": 5,
   "id": "c561365b",
   "metadata": {},
   "outputs": [],
   "source": [
    "bin_preds = []\n",
    "for i in preds:\n",
    "    if i > 0.5 or i == 0.5:\n",
    "        bin_preds.append(1)\n",
    "    elif i < 0.5:\n",
    "        bin_preds.append(0)"
   ]
  },
  {
   "cell_type": "code",
   "execution_count": 6,
   "id": "3d3467eb",
   "metadata": {},
   "outputs": [
    {
     "name": "stdout",
     "output_type": "stream",
     "text": [
      "              precision    recall  f1-score   support\n",
      "\n",
      "           0       0.99      1.00      0.99      3406\n",
      "           1       0.91      0.70      0.79       170\n",
      "\n",
      "    accuracy                           0.98      3576\n",
      "   macro avg       0.95      0.85      0.89      3576\n",
      "weighted avg       0.98      0.98      0.98      3576\n",
      "\n"
     ]
    }
   ],
   "source": [
    "from sklearn.metrics import classification_report\n",
    "print(classification_report(y_test, bin_preds))"
   ]
  },
  {
   "cell_type": "code",
   "execution_count": 7,
   "id": "590014fb",
   "metadata": {},
   "outputs": [
    {
     "data": {
      "text/plain": [
       "0.01596530080017657"
      ]
     },
     "execution_count": 7,
     "metadata": {},
     "output_type": "execute_result"
    }
   ],
   "source": [
    "from sklearn.metrics import mean_squared_error\n",
    "test_mse = mean_squared_error(y_test, preds)\n",
    "test_mse"
   ]
  },
  {
   "cell_type": "code",
   "execution_count": 8,
   "id": "c3f8d0d2",
   "metadata": {},
   "outputs": [
    {
     "data": {
      "text/plain": [
       "57.09191566143141"
      ]
     },
     "execution_count": 8,
     "metadata": {},
     "output_type": "execute_result"
    }
   ],
   "source": [
    "sse = test_mse*len(X_test)\n",
    "sse"
   ]
  },
  {
   "cell_type": "code",
   "execution_count": 21,
   "id": "14e3d57b",
   "metadata": {},
   "outputs": [
    {
     "data": {
      "text/plain": [
       "<sklearn.metrics._plot.confusion_matrix.ConfusionMatrixDisplay at 0x7fad06784cd0>"
      ]
     },
     "execution_count": 21,
     "metadata": {},
     "output_type": "execute_result"
    },
    {
     "data": {
      "image/png": "[encoded data removed]",
      "text/plain": [
       "<Figure size 640x480 with 2 Axes>"
      ]
     },
     "metadata": {},
     "output_type": "display_data"
    }
   ],
   "source": [
    "from sklearn.metrics import confusion_matrix, ConfusionMatrixDisplay\n",
    "# confusion matrix\n",
    "cm = confusion_matrix(y_test, bin_preds)\n",
    "\n",
    "# plot confusion matrix\n",
    "ConfusionMatrixDisplay(confusion_matrix=cm).plot()"
   ]
  },
  {
   "cell_type": "code",
   "execution_count": 29,
   "id": "ccca1c1d",
   "metadata": {},
   "outputs": [
    {
     "name": "stderr",
     "output_type": "stream",
     "text": [
      "100%|█████████████████████████████████████| 14304/14304 [09:31<00:00, 25.03it/s]\n"
     ]
    }
   ],
   "source": [
    "train_preds = []\n",
    "for i in tqdm(range(len(X_train))):\n",
    "    reloaded_results = tf.sigmoid(reloaded_model(tf.constant([X_train.values[i]])))\n",
    "    train_preds.append(reloaded_results.numpy()[0][0])"
   ]
  },
  {
   "cell_type": "code",
   "execution_count": 30,
   "id": "c81f4366",
   "metadata": {},
   "outputs": [],
   "source": [
    "train_bin_preds = []\n",
    "for i in train_preds:\n",
    "    if i > 0.5 or i == 0.5:\n",
    "        train_bin_preds.append(1)\n",
    "    elif i < 0.5:\n",
    "        train_bin_preds.append(0)"
   ]
  },
  {
   "cell_type": "code",
   "execution_count": 31,
   "id": "4d671139",
   "metadata": {},
   "outputs": [
    {
     "name": "stdout",
     "output_type": "stream",
     "text": [
      "              precision    recall  f1-score   support\n",
      "\n",
      "           0       0.99      1.00      0.99     13608\n",
      "           1       0.93      0.78      0.85       696\n",
      "\n",
      "    accuracy                           0.99     14304\n",
      "   macro avg       0.96      0.89      0.92     14304\n",
      "weighted avg       0.99      0.99      0.99     14304\n",
      "\n"
     ]
    }
   ],
   "source": [
    "print(classification_report(y_train, train_bin_preds))"
   ]
  },
  {
   "cell_type": "code",
   "execution_count": 32,
   "id": "d68eb4c2",
   "metadata": {},
   "outputs": [
    {
     "data": {
      "text/plain": [
       "0.01074435919475271"
      ]
     },
     "execution_count": 32,
     "metadata": {},
     "output_type": "execute_result"
    }
   ],
   "source": [
    "train_mse = mean_squared_error(y_train, train_preds)\n",
    "train_mse"
   ]
  },
  {
   "cell_type": "code",
   "execution_count": 33,
   "id": "0269e049",
   "metadata": {},
   "outputs": [
    {
     "data": {
      "text/plain": [
       "153.68731392174277"
      ]
     },
     "execution_count": 33,
     "metadata": {},
     "output_type": "execute_result"
    }
   ],
   "source": [
    "train_sse = train_mse*len(X_train)\n",
    "train_sse"
   ]
  },
  {
   "cell_type": "code",
   "execution_count": 34,
   "id": "bde54bc3",
   "metadata": {},
   "outputs": [
    {
     "data": {
      "text/plain": [
       "<sklearn.metrics._plot.confusion_matrix.ConfusionMatrixDisplay at 0x7fad090436d0>"
      ]
     },
     "execution_count": 34,
     "metadata": {},
     "output_type": "execute_result"
    },
    {
     "data": {
      "image/png": "[encoded data removed]",
      "text/plain": [
       "<Figure size 640x480 with 2 Axes>"
      ]
     },
     "metadata": {},
     "output_type": "display_data"
    }
   ],
   "source": [
    "# confusion matrix\n",
    "cm_train = confusion_matrix(y_train, train_bin_preds)\n",
    "\n",
    "# plot confusion matrix\n",
    "ConfusionMatrixDisplay(confusion_matrix=cm_train).plot()"
   ]
  },
  {
   "cell_type": "code",
   "execution_count": 9,
   "id": "cda9f30e",
   "metadata": {},
   "outputs": [
    {
     "name": "stderr",
     "output_type": "stream",
     "text": [
      "2023-06-06 16:11:39.000236: I tensorflow/core/common_runtime/executor.cc:1197] [/device:CPU:0] (DEBUG INFO) Executor start aborting (this does not indicate an error and you can ignore this message): INVALID_ARGUMENT: You must feed a value for placeholder tensor 'seq_length' with dtype int32\n",
      "\t [[{{node seq_length}}]]\n",
      "2023-06-06 16:11:39.001901: I tensorflow/core/common_runtime/executor.cc:1197] [/device:CPU:0] (DEBUG INFO) Executor start aborting (this does not indicate an error and you can ignore this message): INVALID_ARGUMENT: You must feed a value for placeholder tensor 'seq_length' with dtype int32\n",
      "\t [[{{node seq_length}}]]\n",
      "2023-06-06 16:11:39.002431: I tensorflow/core/common_runtime/executor.cc:1197] [/device:CPU:0] (DEBUG INFO) Executor start aborting (this does not indicate an error and you can ignore this message): INVALID_ARGUMENT: You must feed a value for placeholder tensor 'seq_length' with dtype int32\n",
      "\t [[{{node seq_length}}]]\n",
      "2023-06-06 16:11:39.003642: I tensorflow/core/common_runtime/executor.cc:1197] [/device:CPU:0] (DEBUG INFO) Executor start aborting (this does not indicate an error and you can ignore this message): INVALID_ARGUMENT: You must feed a value for placeholder tensor 'seq_length' with dtype int32\n",
      "\t [[{{node seq_length}}]]\n",
      "2023-06-06 16:11:39.004001: I tensorflow/core/common_runtime/executor.cc:1197] [/device:CPU:0] (DEBUG INFO) Executor start aborting (this does not indicate an error and you can ignore this message): INVALID_ARGUMENT: You must feed a value for placeholder tensor 'seq_length' with dtype int32\n",
      "\t [[{{node seq_length}}]]\n",
      "2023-06-06 16:11:39.004446: I tensorflow/core/common_runtime/executor.cc:1197] [/device:CPU:0] (DEBUG INFO) Executor start aborting (this does not indicate an error and you can ignore this message): INVALID_ARGUMENT: You must feed a value for placeholder tensor 'seq_length' with dtype int32\n",
      "\t [[{{node seq_length}}]]\n",
      "2023-06-06 16:11:39.004744: I tensorflow/core/common_runtime/executor.cc:1197] [/device:CPU:0] (DEBUG INFO) Executor start aborting (this does not indicate an error and you can ignore this message): INVALID_ARGUMENT: You must feed a value for placeholder tensor 'seq_length' with dtype int32\n",
      "\t [[{{node seq_length}}]]\n",
      "2023-06-06 16:11:40.212662: I tensorflow/core/common_runtime/executor.cc:1197] [/device:CPU:0] (DEBUG INFO) Executor start aborting (this does not indicate an error and you can ignore this message): INVALID_ARGUMENT: You must feed a value for placeholder tensor 'seq_length' with dtype int32\n",
      "\t [[{{node seq_length}}]]\n",
      "2023-06-06 16:11:40.213352: I tensorflow/core/common_runtime/executor.cc:1197] [/device:CPU:0] (DEBUG INFO) Executor start aborting (this does not indicate an error and you can ignore this message): INVALID_ARGUMENT: You must feed a value for placeholder tensor 'seq_length' with dtype int32\n",
      "\t [[{{node seq_length}}]]\n",
      "2023-06-06 16:11:40.213505: I tensorflow/core/common_runtime/executor.cc:1197] [/device:CPU:0] (DEBUG INFO) Executor start aborting (this does not indicate an error and you can ignore this message): INVALID_ARGUMENT: You must feed a value for placeholder tensor 'seq_length' with dtype int32\n",
      "\t [[{{node seq_length}}]]\n",
      "2023-06-06 16:11:40.214248: I tensorflow/core/common_runtime/executor.cc:1197] [/device:CPU:0] (DEBUG INFO) Executor start aborting (this does not indicate an error and you can ignore this message): INVALID_ARGUMENT: You must feed a value for placeholder tensor 'seq_length' with dtype int32\n",
      "\t [[{{node seq_length}}]]\n",
      "2023-06-06 16:11:40.214693: I tensorflow/core/common_runtime/executor.cc:1197] [/device:CPU:0] (DEBUG INFO) Executor start aborting (this does not indicate an error and you can ignore this message): INVALID_ARGUMENT: You must feed a value for placeholder tensor 'seq_length' with dtype int32\n",
      "\t [[{{node seq_length}}]]\n",
      "2023-06-06 16:11:40.214827: I tensorflow/core/common_runtime/executor.cc:1197] [/device:CPU:0] (DEBUG INFO) Executor start aborting (this does not indicate an error and you can ignore this message): INVALID_ARGUMENT: You must feed a value for placeholder tensor 'seq_length' with dtype int32\n",
      "\t [[{{node seq_length}}]]\n",
      "2023-06-06 16:11:40.215019: I tensorflow/core/common_runtime/executor.cc:1197] [/device:CPU:0] (DEBUG INFO) Executor start aborting (this does not indicate an error and you can ignore this message): INVALID_ARGUMENT: You must feed a value for placeholder tensor 'seq_length' with dtype int32\n",
      "\t [[{{node seq_length}}]]\n",
      "2023-06-06 16:11:43.989495: I tensorflow/core/common_runtime/executor.cc:1197] [/device:CPU:0] (DEBUG INFO) Executor start aborting (this does not indicate an error and you can ignore this message): INVALID_ARGUMENT: You must feed a value for placeholder tensor 'seq_length' with dtype int32\n",
      "\t [[{{node seq_length}}]]\n",
      "2023-06-06 16:11:43.989936: I tensorflow/core/common_runtime/executor.cc:1197] [/device:CPU:0] (DEBUG INFO) Executor start aborting (this does not indicate an error and you can ignore this message): INVALID_ARGUMENT: You must feed a value for placeholder tensor 'seq_length' with dtype int32\n",
      "\t [[{{node seq_length}}]]\n",
      "2023-06-06 16:11:43.990077: I tensorflow/core/common_runtime/executor.cc:1197] [/device:CPU:0] (DEBUG INFO) Executor start aborting (this does not indicate an error and you can ignore this message): INVALID_ARGUMENT: You must feed a value for placeholder tensor 'seq_length' with dtype int32\n",
      "\t [[{{node seq_length}}]]\n",
      "2023-06-06 16:11:43.990455: I tensorflow/core/common_runtime/executor.cc:1197] [/device:CPU:0] (DEBUG INFO) Executor start aborting (this does not indicate an error and you can ignore this message): INVALID_ARGUMENT: You must feed a value for placeholder tensor 'seq_length' with dtype int32\n",
      "\t [[{{node seq_length}}]]\n",
      "2023-06-06 16:11:43.990639: I tensorflow/core/common_runtime/executor.cc:1197] [/device:CPU:0] (DEBUG INFO) Executor start aborting (this does not indicate an error and you can ignore this message): INVALID_ARGUMENT: You must feed a value for placeholder tensor 'seq_length' with dtype int32\n",
      "\t [[{{node seq_length}}]]\n",
      "2023-06-06 16:11:43.990732: I tensorflow/core/common_runtime/executor.cc:1197] [/device:CPU:0] (DEBUG INFO) Executor start aborting (this does not indicate an error and you can ignore this message): INVALID_ARGUMENT: You must feed a value for placeholder tensor 'seq_length' with dtype int32\n",
      "\t [[{{node seq_length}}]]\n",
      "2023-06-06 16:11:43.990822: I tensorflow/core/common_runtime/executor.cc:1197] [/device:CPU:0] (DEBUG INFO) Executor start aborting (this does not indicate an error and you can ignore this message): INVALID_ARGUMENT: You must feed a value for placeholder tensor 'seq_length' with dtype int32\n",
      "\t [[{{node seq_length}}]]\n",
      "2023-06-06 16:11:48.169890: I tensorflow/core/common_runtime/executor.cc:1197] [/device:CPU:0] (DEBUG INFO) Executor start aborting (this does not indicate an error and you can ignore this message): INVALID_ARGUMENT: You must feed a value for placeholder tensor 'seq_length' with dtype int32\n",
      "\t [[{{node seq_length}}]]\n",
      "2023-06-06 16:11:48.170535: I tensorflow/core/common_runtime/executor.cc:1197] [/device:CPU:0] (DEBUG INFO) Executor start aborting (this does not indicate an error and you can ignore this message): INVALID_ARGUMENT: You must feed a value for placeholder tensor 'seq_length' with dtype int32\n",
      "\t [[{{node seq_length}}]]\n",
      "2023-06-06 16:11:48.170749: I tensorflow/core/common_runtime/executor.cc:1197] [/device:CPU:0] (DEBUG INFO) Executor start aborting (this does not indicate an error and you can ignore this message): INVALID_ARGUMENT: You must feed a value for placeholder tensor 'seq_length' with dtype int32\n",
      "\t [[{{node seq_length}}]]\n",
      "2023-06-06 16:11:48.171430: I tensorflow/core/common_runtime/executor.cc:1197] [/device:CPU:0] (DEBUG INFO) Executor start aborting (this does not indicate an error and you can ignore this message): INVALID_ARGUMENT: You must feed a value for placeholder tensor 'seq_length' with dtype int32\n",
      "\t [[{{node seq_length}}]]\n",
      "2023-06-06 16:11:48.171742: I tensorflow/core/common_runtime/executor.cc:1197] [/device:CPU:0] (DEBUG INFO) Executor start aborting (this does not indicate an error and you can ignore this message): INVALID_ARGUMENT: You must feed a value for placeholder tensor 'seq_length' with dtype int32\n",
      "\t [[{{node seq_length}}]]\n",
      "2023-06-06 16:11:48.171896: I tensorflow/core/common_runtime/executor.cc:1197] [/device:CPU:0] (DEBUG INFO) Executor start aborting (this does not indicate an error and you can ignore this message): INVALID_ARGUMENT: You must feed a value for placeholder tensor 'seq_length' with dtype int32\n",
      "\t [[{{node seq_length}}]]\n",
      "2023-06-06 16:11:48.172073: I tensorflow/core/common_runtime/executor.cc:1197] [/device:CPU:0] (DEBUG INFO) Executor start aborting (this does not indicate an error and you can ignore this message): INVALID_ARGUMENT: You must feed a value for placeholder tensor 'seq_length' with dtype int32\n",
      "\t [[{{node seq_length}}]]\n"
     ]
    }
   ],
   "source": [
    "path_2 = 'the_model_A12/'\n",
    "reloaded_model_2 = tf.saved_model.load(path_2)"
   ]
  },
  {
   "cell_type": "code",
   "execution_count": 10,
   "id": "caca981c",
   "metadata": {},
   "outputs": [
    {
     "name": "stderr",
     "output_type": "stream",
     "text": [
      "100%|███████████████████████████████████████| 3576/3576 [28:12<00:00,  2.11it/s]\n"
     ]
    }
   ],
   "source": [
    "preds_12 = []\n",
    "for i in tqdm(range(len(X_test))):\n",
    "    reloaded_results = tf.sigmoid(reloaded_model_2(tf.constant([X_test.values[i]])))\n",
    "    preds_12.append(reloaded_results.numpy()[0][0])"
   ]
  },
  {
   "cell_type": "code",
   "execution_count": 11,
   "id": "928491a4",
   "metadata": {},
   "outputs": [],
   "source": [
    "bin_preds_12 = []\n",
    "for i in preds_12:\n",
    "    if i > 0.5 or i == 0.5:\n",
    "        bin_preds_12.append(1)\n",
    "    elif i < 0.5:\n",
    "        bin_preds_12.append(0)"
   ]
  },
  {
   "cell_type": "code",
   "execution_count": 12,
   "id": "b9d8ac4d",
   "metadata": {},
   "outputs": [
    {
     "name": "stdout",
     "output_type": "stream",
     "text": [
      "              precision    recall  f1-score   support\n",
      "\n",
      "           0       0.99      1.00      0.99      3406\n",
      "           1       0.91      0.74      0.81       170\n",
      "\n",
      "    accuracy                           0.98      3576\n",
      "   macro avg       0.95      0.87      0.90      3576\n",
      "weighted avg       0.98      0.98      0.98      3576\n",
      "\n"
     ]
    }
   ],
   "source": [
    "print(classification_report(y_test, bin_preds_12))"
   ]
  },
  {
   "cell_type": "code",
   "execution_count": 35,
   "id": "6f363e60",
   "metadata": {},
   "outputs": [
    {
     "data": {
      "text/plain": [
       "0.013280123475717776"
      ]
     },
     "execution_count": 35,
     "metadata": {},
     "output_type": "execute_result"
    }
   ],
   "source": [
    "test_mse_12 = mean_squared_error(y_test, preds_12)\n",
    "test_mse_12"
   ]
  },
  {
   "cell_type": "code",
   "execution_count": 36,
   "id": "ad002505",
   "metadata": {},
   "outputs": [
    {
     "data": {
      "text/plain": [
       "47.48972154916677"
      ]
     },
     "execution_count": 36,
     "metadata": {},
     "output_type": "execute_result"
    }
   ],
   "source": [
    "sse_12 = test_mse_12*len(X_test)\n",
    "sse_12"
   ]
  },
  {
   "cell_type": "code",
   "execution_count": 27,
   "id": "d2f34f88",
   "metadata": {},
   "outputs": [
    {
     "data": {
      "text/plain": [
       "<sklearn.metrics._plot.confusion_matrix.ConfusionMatrixDisplay at 0x7fad08d4b310>"
      ]
     },
     "execution_count": 27,
     "metadata": {},
     "output_type": "execute_result"
    },
    {
     "data": {
      "image/png": "[encoded data removed]",
      "text/plain": [
       "<Figure size 640x480 with 2 Axes>"
      ]
     },
     "metadata": {},
     "output_type": "display_data"
    }
   ],
   "source": [
    "# confusion matrix\n",
    "cm_12 = confusion_matrix(y_test, bin_preds_12)\n",
    "\n",
    "# plot confusion matrix\n",
    "ConfusionMatrixDisplay(confusion_matrix=cm_12).plot()"
   ]
  },
  {
   "cell_type": "code",
   "execution_count": 14,
   "id": "b6e9d75d",
   "metadata": {},
   "outputs": [
    {
     "name": "stderr",
     "output_type": "stream",
     "text": [
      "100%|███████████████████████████████████| 14304/14304 [3:09:11<00:00,  1.26it/s]\n"
     ]
    }
   ],
   "source": [
    "train_preds_12 = []\n",
    "for i in tqdm(range(len(X_train))):\n",
    "    reloaded_results = tf.sigmoid(reloaded_model_2(tf.constant([X_train.values[i]])))\n",
    "    train_preds_12.append(reloaded_results.numpy()[0][0])"
   ]
  },
  {
   "cell_type": "code",
   "execution_count": 15,
   "id": "fdfd20e7",
   "metadata": {},
   "outputs": [],
   "source": [
    "train_bin_preds_12 = []\n",
    "for i in train_preds_12:\n",
    "    if i > 0.5 or i == 0.5:\n",
    "        train_bin_preds_12.append(1)\n",
    "    elif i < 0.5:\n",
    "        train_bin_preds_12.append(0)"
   ]
  },
  {
   "cell_type": "code",
   "execution_count": 16,
   "id": "f4a48dc2",
   "metadata": {},
   "outputs": [
    {
     "name": "stdout",
     "output_type": "stream",
     "text": [
      "              precision    recall  f1-score   support\n",
      "\n",
      "           0       1.00      1.00      1.00     13608\n",
      "           1       0.99      0.92      0.95       696\n",
      "\n",
      "    accuracy                           1.00     14304\n",
      "   macro avg       0.99      0.96      0.98     14304\n",
      "weighted avg       1.00      1.00      1.00     14304\n",
      "\n"
     ]
    }
   ],
   "source": [
    "print(classification_report(y_train, train_bin_preds_12))"
   ]
  },
  {
   "cell_type": "code",
   "execution_count": 37,
   "id": "d700f14d",
   "metadata": {},
   "outputs": [
    {
     "data": {
      "text/plain": [
       "0.003985488601453884"
      ]
     },
     "execution_count": 37,
     "metadata": {},
     "output_type": "execute_result"
    }
   ],
   "source": [
    "train_mse_12 = mean_squared_error(y_train, train_preds_12)\n",
    "train_mse_12"
   ]
  },
  {
   "cell_type": "code",
   "execution_count": 38,
   "id": "0c54f723",
   "metadata": {},
   "outputs": [
    {
     "data": {
      "text/plain": [
       "57.00842895519635"
      ]
     },
     "execution_count": 38,
     "metadata": {},
     "output_type": "execute_result"
    }
   ],
   "source": [
    "train_sse_12 = train_mse_12*len(X_train)\n",
    "train_sse_12"
   ]
  },
  {
   "cell_type": "code",
   "execution_count": 26,
   "id": "89ebe607",
   "metadata": {},
   "outputs": [
    {
     "data": {
      "text/plain": [
       "<sklearn.metrics._plot.confusion_matrix.ConfusionMatrixDisplay at 0x7fad08c86790>"
      ]
     },
     "execution_count": 26,
     "metadata": {},
     "output_type": "execute_result"
    },
    {
     "data": {
      "image/png": "[encoded data removed]",
      "text/plain": [
       "<Figure size 640x480 with 2 Axes>"
      ]
     },
     "metadata": {},
     "output_type": "display_data"
    }
   ],
   "source": [
    "# confusion matrix\n",
    "cm_train_12 = confusion_matrix(y_train, train_bin_preds_12)\n",
    "\n",
    "# plot confusion matrix\n",
    "ConfusionMatrixDisplay(confusion_matrix=cm_train_12).plot()"
   ]
  }
 ],
 "metadata": {
  "kernelspec": {
   "display_name": "Python 3 (ipykernel)",
   "language": "python",
   "name": "python3"
  },
  "language_info": {
   "codemirror_mode": {
    "name": "ipython",
    "version": 3
   },
   "file_extension": ".py",
   "mimetype": "text/x-python",
   "name": "python",
   "nbconvert_exporter": "python",
   "pygments_lexer": "ipython3",
   "version": "3.8.12"
  }
 },
 "nbformat": 4,
 "nbformat_minor": 5
}
